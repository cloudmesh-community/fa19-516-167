{
  "nbformat": 4,
  "nbformat_minor": 0,
  "metadata": {
    "colab": {
      "name": "E_Cloudmesh_Common_Shell.ipynb",
      "version": "0.3.2",
      "provenance": [],
      "collapsed_sections": []
    },
    "kernelspec": {
      "name": "python3",
      "display_name": "Python 3"
    }
  },
  "cells": [
    {
      "cell_type": "code",
      "metadata": {
        "id": "LpiLBN7JJYgC",
        "colab_type": "code",
        "outputId": "5aa48caf-7537-4c92-a6a4-3e976f6b7267",
        "colab": {
          "base_uri": "https://localhost:8080/",
          "height": 425
        }
      },
      "source": [
        "#!/usr/bin/env python\n",
        "# -*- coding: utf-8 -*-\n",
        "\n",
        "# ------------------------------------------------------\n",
        "# Objective: Setup Cloudmesh\n",
        "# ------------------------------------------------------\n",
        "\n",
        "__author__ = \"Bill Screen\"\n",
        "__date__ = \"2019-09-12\"\n",
        "__version__ = \"1.0.0\"\n",
        "\n",
        "# ------------------------------------------------------\n",
        "\n",
        "# Install Cloudmesh\n",
        "!pip install cloudmesh-installer\n",
        "\n",
        "# Imports\n",
        "import os\n",
        "\n",
        "# Create the cloudmesh directory cm\n",
        "os.system(\"mkdir cm\")\n",
        "\n",
        "# Change local directory to cm\n",
        "os.chdir(\"cm\")\n",
        "\n",
        "# Clone the CloudMesh repo to the cm folder\n",
        "os.system(\"cloudmesh-installer git clone cms\")\n",
        "\n",
        "# Install CloudMesh project (don't use -e in Google Colab)\n",
        "os.system(\"cloudmesh-installer install cms\")"
      ],
      "execution_count": 1,
      "outputs": [
        {
          "output_type": "stream",
          "text": [
            "Collecting cloudmesh-installer\n",
            "  Downloading https://files.pythonhosted.org/packages/17/0b/e124b8e36b24a3843f8ffbd0f1d1df9f53ebf8d25cb79c4ac0fbb2656941/cloudmesh_installer-4.2.5-py2.py3-none-any.whl\n",
            "Requirement already satisfied: tabulate in /usr/local/lib/python3.6/dist-packages (from cloudmesh-installer) (0.8.3)\n",
            "Collecting oyaml (from cloudmesh-installer)\n",
            "  Downloading https://files.pythonhosted.org/packages/00/37/ec89398d3163f8f63d892328730e04b3a10927e3780af25baf1ec74f880f/oyaml-0.9-py2.py3-none-any.whl\n",
            "Requirement already satisfied: requests in /usr/local/lib/python3.6/dist-packages (from cloudmesh-installer) (2.21.0)\n",
            "Collecting colorama (from cloudmesh-installer)\n",
            "  Downloading https://files.pythonhosted.org/packages/4f/a6/728666f39bfff1719fc94c481890b2106837da9318031f71a8424b662e12/colorama-0.4.1-py2.py3-none-any.whl\n",
            "Requirement already satisfied: docopt in /usr/local/lib/python3.6/dist-packages (from cloudmesh-installer) (0.6.2)\n",
            "Collecting python-hostlist (from cloudmesh-installer)\n",
            "  Downloading https://files.pythonhosted.org/packages/3d/0f/1846a7a0bdd5d890b6c07f34be89d1571a6addbe59efe59b7b0777e44924/python-hostlist-1.18.tar.gz\n",
            "Requirement already satisfied: pyyaml in /usr/local/lib/python3.6/dist-packages (from oyaml->cloudmesh-installer) (3.13)\n",
            "Requirement already satisfied: urllib3<1.25,>=1.21.1 in /usr/local/lib/python3.6/dist-packages (from requests->cloudmesh-installer) (1.24.3)\n",
            "Requirement already satisfied: chardet<3.1.0,>=3.0.2 in /usr/local/lib/python3.6/dist-packages (from requests->cloudmesh-installer) (3.0.4)\n",
            "Requirement already satisfied: certifi>=2017.4.17 in /usr/local/lib/python3.6/dist-packages (from requests->cloudmesh-installer) (2019.6.16)\n",
            "Requirement already satisfied: idna<2.9,>=2.5 in /usr/local/lib/python3.6/dist-packages (from requests->cloudmesh-installer) (2.8)\n",
            "Building wheels for collected packages: python-hostlist\n",
            "  Building wheel for python-hostlist (setup.py) ... \u001b[?25l\u001b[?25hdone\n",
            "  Created wheel for python-hostlist: filename=python_hostlist-1.18-cp36-none-any.whl size=38517 sha256=43db104a7c7525189f42d82d5a63efeeb0c0bfeda33b7d2c8ecd4830baedce54\n",
            "  Stored in directory: /root/.cache/pip/wheels/56/db/1d/b28216dccd982a983d8da66572c497d6a2e485eba7c4d6cba3\n",
            "Successfully built python-hostlist\n",
            "Installing collected packages: oyaml, colorama, python-hostlist, cloudmesh-installer\n",
            "Successfully installed cloudmesh-installer-4.2.5 colorama-0.4.1 oyaml-0.9 python-hostlist-1.18\n"
          ],
          "name": "stdout"
        },
        {
          "output_type": "execute_result",
          "data": {
            "text/plain": [
              "0"
            ]
          },
          "metadata": {
            "tags": []
          },
          "execution_count": 1
        }
      ]
    },
    {
      "cell_type": "code",
      "metadata": {
        "id": "wBzid_HgT679",
        "colab_type": "code",
        "outputId": "a6c760f4-608f-40e4-cc64-cd4a654055e2",
        "colab": {
          "base_uri": "https://localhost:8080/",
          "height": 51
        }
      },
      "source": [
        "# fa19-516-167 \n",
        "# E.Cloudmesh.Common.2\n",
        "# Objective: Develop a program that demonstartes the use of dotdict.\n",
        "\n",
        "# Imports\n",
        "from cloudmesh.common.dotdict import dotdict\n",
        "\n",
        "# Sample JSON data\n",
        "data = [\n",
        "  {\n",
        "  \"org\": \"Amazon\",\n",
        "  \"address\": {\n",
        "    \"street1\": \"123 aws avenue\",\n",
        "    \"city\": \"Seattle\",\n",
        "    \"zip\": \"12345\",\n",
        "    \"country\": \"United States\",\n",
        "    \"countryCode\": \"US\"\n",
        "  }},\n",
        "  {\n",
        "  \"org\": \"Microsoft\",\n",
        "  \"address\": {\n",
        "    \"street1\": \"456 azure street\",\n",
        "    \"city\": \"Redmond\",\n",
        "    \"zip\": \"54321\",\n",
        "    \"country\": \"United States\",\n",
        "    \"countryCode\": \"US\"\n",
        "  }}\n",
        "]\n",
        "\n",
        "# Convert to dotdict and Print JSON data\n",
        "dotdict_data = dotdict(data[0])\n",
        "print(type(dotdict_data))\n",
        "print(dotdict_data)"
      ],
      "execution_count": 2,
      "outputs": [
        {
          "output_type": "stream",
          "text": [
            "<class 'cloudmesh.common.dotdict.dotdict'>\n",
            "{'org': 'Amazon', 'address': {'street1': '123 aws avenue', 'city': 'Seattle', 'zip': '12345', 'country': 'United States', 'countryCode': 'US'}}\n"
          ],
          "name": "stdout"
        }
      ]
    },
    {
      "cell_type": "code",
      "metadata": {
        "id": "1sEfFSO3sP2n",
        "colab_type": "code",
        "colab": {
          "base_uri": "https://localhost:8080/",
          "height": 51
        },
        "outputId": "ec65c7e6-293e-4ae6-98d1-69957ffb5d37"
      },
      "source": [
        "# fa19-516-167\n",
        "# E.Cloudmesh.Common.3\n",
        "# Objective: Develop a program that demonstartes the use of FlatDict.\n",
        "\n",
        "# Imports\n",
        "from cloudmesh.common.FlatDict import FlatDict #there is a typo in the book 'Flatdict'\n",
        "\n",
        "# Sample JSON data\n",
        "data = [\n",
        "  {\n",
        "  \"org\": \"Amazon\",\n",
        "  \"address\": {\n",
        "    \"street1\": \"123 aws avenue\",\n",
        "    \"city\": \"Seattle\",\n",
        "    \"zip\": \"12345\",\n",
        "    \"country\": \"United States\",\n",
        "    \"countryCode\": \"US\"\n",
        "  }},\n",
        "  {\n",
        "  \"org\": \"Microsoft\",\n",
        "  \"address\": {\n",
        "    \"street1\": \"456 azure street\",\n",
        "    \"city\": \"Redmond\",\n",
        "    \"zip\": \"54321\",\n",
        "    \"country\": \"United States\",\n",
        "    \"countryCode\": \"US\"\n",
        "  }}\n",
        "]\n",
        "\n",
        "# Convert to FlatDict and Print JSON data\n",
        "flatdict_data = FlatDict(data[0])\n",
        "print(type(flatdict_data))\n",
        "print(flatdict_data)"
      ],
      "execution_count": 3,
      "outputs": [
        {
          "output_type": "stream",
          "text": [
            "<class 'cloudmesh.common.FlatDict.FlatDict'>\n",
            "{'org': 'Amazon', 'address__street1': '123 aws avenue', 'address__city': 'Seattle', 'address__zip': '12345', 'address__country': 'United States', 'address__countryCode': 'US'}\n"
          ],
          "name": "stdout"
        }
      ]
    },
    {
      "cell_type": "code",
      "metadata": {
        "id": "DJBc66Ndt5OY",
        "colab_type": "code",
        "colab": {
          "base_uri": "https://localhost:8080/",
          "height": 802
        },
        "outputId": "e512eb67-ac5a-44c3-9420-9c2f209679a2"
      },
      "source": [
        "# fa19-516-167\n",
        "# E.Cloudmesh.Common.4\n",
        "# Objective: Develop a program that demonstartes the use of cloudmesh.common.Shell.\n",
        "\n",
        "# Imports\n",
        "from cloudmesh.common.Shell import Shell\n",
        "\n",
        "# ps shows process status\n",
        "result = Shell.execute('ps', [\"-ef\"]) # Note: error in book, 'result' is not defined\n",
        "print(result)\n",
        "\n",
        "# env allows you to set or print the environment variables.\n",
        "result = Shell.execute('env')\n",
        "print(result)"
      ],
      "execution_count": 4,
      "outputs": [
        {
          "output_type": "stream",
          "text": [
            "UID          PID    PPID  C STIME TTY          TIME CMD\n",
            "root           1       0  0 01:15 ?        00:00:00 /bin/bash -e /datalab/run.sh\n",
            "root           7       1  0 01:15 ?        00:00:00 /tools/node/bin/node /datalab/web/app.js\n",
            "root          22       7  0 01:15 ?        00:00:01 /usr/bin/python2 /usr/local/bin/jupyter-notebook --ip=\"172.28.0.2\" --port=9000 --FileContentsManager.root_dir=\"/\" --MappingKernelManager.root_dir=\"/content\"\n",
            "root         113       0  0 01:16 ?        00:00:00 tail -n +0 -F /root/.config/Google/DriveFS/Logs/drive_fs.txt\n",
            "root         122      22  1 01:19 ?        00:00:01 /usr/bin/python3 -m ipykernel_launcher -f /root/.local/share/jupyter/runtime/kernel-b7921155-8214-439e-8b15-8e614dbc49c2.json\n",
            "root         318     122  0 01:21 ?        00:00:00 ps -ef\n",
            "ENV=/root/.bashrc\n",
            "GCS_READ_CACHE_BLOCK_SIZE_MB=16\n",
            "CLOUDSDK_CONFIG=/content/.config\n",
            "CUDA_VERSION=10.0.130\n",
            "PATH=/usr/local/nvidia/bin:/usr/local/cuda/bin:/usr/local/sbin:/usr/local/bin:/usr/sbin:/usr/bin:/sbin:/bin:/tools/node/bin:/tools/google-cloud-sdk/bin:/opt/bin\n",
            "HOME=/root\n",
            "LD_LIBRARY_PATH=/usr/local/nvidia/lib:/usr/local/nvidia/lib64\n",
            "LANG=en_US.UTF-8\n",
            "SHELL=/bin/bash\n",
            "LIBRARY_PATH=/usr/local/cuda/lib64/stubs\n",
            "CUDA_PKG_VERSION=10-0=10.0.130-1\n",
            "SHLVL=1\n",
            "NCCL_VERSION=2.4.8\n",
            "NVIDIA_VISIBLE_DEVICES=all\n",
            "TF_FORCE_GPU_ALLOW_GROWTH=true\n",
            "DEBIAN_FRONTEND=noninteractive\n",
            "CUDNN_VERSION=7.6.3.30\n",
            "LAST_FORCED_REBUILD=20190507\n",
            "JPY_PARENT_PID=22\n",
            "PYTHONPATH=/env/python\n",
            "DATALAB_SETTINGS_OVERRIDES={\"kernelManagerProxyPort\":6000,\"kernelManagerProxyHost\":\"172.28.0.3\",\"jupyterArgs\":[\"--ip=\\\"172.28.0.2\\\"\"]}\n",
            "NO_GCE_CHECK=True\n",
            "GLIBCXX_FORCE_NEW=1\n",
            "NVIDIA_DRIVER_CAPABILITIES=compute,utility\n",
            "_=/tools/node/bin/node\n",
            "LD_PRELOAD=/usr/lib/x86_64-linux-gnu/libtcmalloc.so.4\n",
            "NVIDIA_REQUIRE_CUDA=cuda>=10.0 brand=tesla,driver>=384,driver<385 brand=tesla,driver>=410,driver<411\n",
            "OLDPWD=/\n",
            "HOSTNAME=503e31a87cae\n",
            "COLAB_GPU=0\n",
            "PWD=/\n",
            "GLIBCPP_FORCE_NEW=1\n",
            "PYTHONWARNINGS=ignore:::pip._internal.cli.base_command\n",
            "TERM=xterm-color\n",
            "CLICOLOR=1\n",
            "PAGER=cat\n",
            "GIT_PAGER=cat\n",
            "MPLBACKEND=module://ipykernel.pylab.backend_inline\n"
          ],
          "name": "stdout"
        }
      ]
    },
    {
      "cell_type": "code",
      "metadata": {
        "id": "BOa1PbJLwgrY",
        "colab_type": "code",
        "colab": {
          "base_uri": "https://localhost:8080/",
          "height": 34
        },
        "outputId": "98a0d38b-913e-420f-c317-4fe40979420b"
      },
      "source": [
        "# fa19-516-167\n",
        "# E.Cloudmesh.Common.5\n",
        "# Objective: Develop a program that demonstartes the use of cloudmesh.common.StopWatch\n",
        "# Note: error in book: module 'os' has no attribute 'sleep'\n",
        "\n",
        "# Imports\n",
        "from cloudmesh.common.StopWatch import StopWatch\n",
        "import time\n",
        "import math\n",
        "\n",
        "# Start timer\n",
        "StopWatch.start(\"pie_stopwatch\")\n",
        "\n",
        "# Wait for pie (3.1415926535) seconds\n",
        "time.sleep(math.pi)\n",
        "\n",
        "# Stop timer\n",
        "StopWatch.stop(\"pie_stopwatch\")\n",
        "\n",
        "# Print results\n",
        "print (StopWatch.get(\"pie_stopwatch\"))"
      ],
      "execution_count": 5,
      "outputs": [
        {
          "output_type": "stream",
          "text": [
            "3\n"
          ],
          "name": "stdout"
        }
      ]
    },
    {
      "cell_type": "code",
      "metadata": {
        "id": "LcSASiBb9gNV",
        "colab_type": "code",
        "colab": {
          "base_uri": "https://localhost:8080/",
          "height": 204
        },
        "outputId": "36ff0dd7-d513-4791-8913-37ccd377ff1d"
      },
      "source": [
        "# fa19-516-167\n",
        "# E.Cloudmesh.Shell.1\n",
        "# Objective: Install cmd5 and the command cms on your computer.\n",
        "\n",
        "result = Shell.execute('cms')\n",
        "print(result)"
      ],
      "execution_count": 6,
      "outputs": [
        {
          "output_type": "stream",
          "text": [
            "+-------------------------------------------------------+\n",
            "|   ____ _                 _                     _      |\n",
            "|  / ___| | ___  _   _  __| |_ __ ___   ___  ___| |__   |\n",
            "| | |   | |/ _ \\| | | |/ _` | '_ ` _ \\ / _ \\/ __| '_ \\  |\n",
            "| | |___| | (_) | |_| | (_| | | | | | |  __/\\__ \\ | | | |\n",
            "|  \\____|_|\\___/ \\__,_|\\__,_|_| |_| |_|\\___||___/_| |_| |\n",
            "+-------------------------------------------------------+\n",
            "|                  Cloudmesh CMD5 Shell                 |\n",
            "+-------------------------------------------------------+\n",
            "\n",
            "cms>\n"
          ],
          "name": "stdout"
        }
      ]
    },
    {
      "cell_type": "code",
      "metadata": {
        "id": "ltd7CnrB_Tfa",
        "colab_type": "code",
        "colab": {}
      },
      "source": [
        "# fa19-516-167\n",
        "# E.Cloudmesh.Shell.2\n",
        "# Write a new command with your firstname as the command name.\n",
        "\n",
        "import os\n",
        "\n",
        "# Get current directory\n",
        "pwd = Shell.execute('pwd')\n",
        "print(pwd)\n",
        "\n",
        "# Create custom command path\n",
        "command_author = 'bill_screen'\n",
        "cm_command_directory = pwd + '/' + 'cloudmesh-' + command_author\n",
        "\n",
        "# Generate template directory\n",
        "result = Shell.execute('cms', ['sys command generate ' + command_author])\n",
        "print(result)\n",
        "\n",
        "# Change local directory to cm_command_directory\n",
        "os.chdir(cm_command_directory)\n",
        "\n",
        "# Run the setup script for the custom command\n",
        "result = Shell.execute('python', ['setup.py', 'install'])\n",
        "print(result)"
      ],
      "execution_count": 0,
      "outputs": []
    },
    {
      "cell_type": "code",
      "metadata": {
        "id": "ctgQARHmU0pL",
        "colab_type": "code",
        "colab": {
          "base_uri": "https://localhost:8080/",
          "height": 187
        },
        "outputId": "01bad8c9-4df5-463f-9bbf-01bcac983024"
      },
      "source": [
        "# fa19-516-167\n",
        "# E.Cloudmesh.Shell.3\n",
        "# Write a new command and experiment with docopt syntax and argument \n",
        "# interpretation of the dict with if conditions.\n",
        "\n",
        "from __future__ import print_function\n",
        "from cloudmesh.shell.command import command\n",
        "from cloudmesh.shell.command import PluginCommand\n",
        "\n",
        "class BillScreenCommand(PluginCommand):\n",
        "  @command\n",
        "  def do_bill_screen(self, args, arguments):\n",
        "    \"\"\"\n",
        "    ::\n",
        "    Usage:\n",
        "      bill_screen -f FILE\n",
        "      bill_screen list\n",
        "\n",
        "    This command does some useful things.\n",
        "      Arguments:\n",
        "        FILE a file name\n",
        "      Options:\n",
        "      -f specify the file\n",
        "    \"\"\"\n",
        "    print(arguments)\n",
        "    if arguments.FILE:\n",
        "      print(\"You have used file: \", arguments.FILE)\n",
        "    return \"\"\n",
        "\n",
        "# Invoke the do_bill_screen function\n",
        "result = Shell.execute('cms', ['bill_screen', '-f', '\\\"file name with spaces\\\"'])\n",
        "print(result)"
      ],
      "execution_count": 59,
      "outputs": [
        {
          "output_type": "stream",
          "text": [
            "Usage:\n",
            "\n",
            "      bill_screen --file=FILE\n",
            "      bill_screen list\n",
            "\n",
            "This command does some useful things.\n",
            "\n",
            "ERROR: Could not execute the command. Please check usage with\n",
            "\n",
            "    cms help bill_screen\n"
          ],
          "name": "stdout"
        }
      ]
    }
  ]
}