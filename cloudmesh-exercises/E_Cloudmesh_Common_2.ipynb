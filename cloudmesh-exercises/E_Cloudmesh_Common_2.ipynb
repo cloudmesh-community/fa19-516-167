{
  "nbformat": 4,
  "nbformat_minor": 0,
  "metadata": {
    "colab": {
      "name": "E.Cloudmesh.Common.2.ipynb",
      "version": "0.3.2",
      "provenance": [],
      "collapsed_sections": []
    },
    "kernelspec": {
      "name": "python3",
      "display_name": "Python 3"
    }
  },
  "cells": [
    {
      "cell_type": "code",
      "metadata": {
        "id": "LpiLBN7JJYgC",
        "colab_type": "code",
        "colab": {}
      },
      "source": [
        "#!/usr/bin/env python\n",
        "# -*- coding: utf-8 -*-\n",
        "\n",
        "# ------------------------------------------------------\n",
        "# Objective:\n",
        "# Develop a program that demonstartes the use of dotdict.\n",
        "# ------------------------------------------------------\n",
        "\n",
        "__author__ = \"Bill Screen\"\n",
        "__date__ = \"2019-09-12\"\n",
        "__version__ = \"1.0.0\"\n",
        "\n",
        "# ------------------------------------------------------\n",
        "\n",
        "# Install Cloudmesh\n",
        "!pip install cloudmesh-installer\n",
        "\n",
        "# Imports\n",
        "import os\n",
        "\n",
        "# Create the cloudmesh directory cm\n",
        "os.system(\"mkdir cm\")\n",
        "\n",
        "# Change local directory to cm\n",
        "os.chdir(\"cm\")\n",
        "\n",
        "# Clone the CloudMesh repo to the cm folder\n",
        "os.system(\"cloudmesh-installer git clone cms\")\n",
        "\n",
        "# Install CloudMesh project in editable mode (don't use -e in Google Colab)\n",
        "os.system(\"cloudmesh-installer install cms\")"
      ],
      "execution_count": 0,
      "outputs": []
    },
    {
      "cell_type": "code",
      "metadata": {
        "id": "wBzid_HgT679",
        "colab_type": "code",
        "outputId": "b3a26d1b-b421-4a94-e067-37466d3194e4",
        "colab": {
          "base_uri": "https://localhost:8080/",
          "height": 187
        }
      },
      "source": [
        "# fa19-516-167 E.Cloudmesh.Common.2\n",
        "\n",
        "# Imports\n",
        "from cloudmesh.common.dotdict import dotdict\n",
        "from cloudmesh.common.FlatDict import FlatDict #there is a typo in the book 'Flatdict'\n",
        "from cloudmesh.common.Printer import Printer\n",
        "\n",
        "# Sample JSON data\n",
        "data = [\n",
        "  {\n",
        "  \"org\": \"Amazon\",\n",
        "  \"address\": {\n",
        "    \"street1\": \"123 aws avenue\",\n",
        "    \"city\": \"Seattle\",\n",
        "    \"zip\": \"12345\",\n",
        "    \"country\": \"United States\",\n",
        "    \"countryCode\": \"US\"\n",
        "  }},\n",
        "  {\n",
        "  \"org\": \"Microsoft\",\n",
        "  \"address\": {\n",
        "    \"street1\": \"456 azure street\",\n",
        "    \"city\": \"Redmond\",\n",
        "    \"zip\": \"54321\",\n",
        "    \"country\": \"United States\",\n",
        "    \"countryCode\": \"US\"\n",
        "  }}\n",
        "]\n",
        "\n",
        "# Convert to dotdict and Print JSON data\n",
        "dotdict_data = dotdict(data[0])\n",
        "print(type(dotdict_data))\n",
        "print(dotdict_data)\n",
        "\n",
        "# Convert to FlatDict and Print JSON data\n",
        "flatdict_data = FlatDict(data[0])\n",
        "print(type(flatdict_data))\n",
        "print(flatdict_data)\n",
        "\n",
        "# Printing Dicts\n",
        "table = Printer.flatwrite(data, sort_keys=[\"org\"]\n",
        "  ,order=[\"org\", \"address.street1\", \"address.city\"]\n",
        "  ,header=[\"Name\", \"Street\", \"City\"]\n",
        "  ,output='table')\n",
        "\n",
        "print(table)"
      ],
      "execution_count": 27,
      "outputs": [
        {
          "output_type": "stream",
          "text": [
            "<class 'cloudmesh.common.dotdict.dotdict'>\n",
            "{'org': 'Amazon', 'address': {'street1': '123 aws avenue', 'city': 'Seattle', 'zip': '12345', 'country': 'United States', 'countryCode': 'US'}}\n",
            "<class 'cloudmesh.common.FlatDict.FlatDict'>\n",
            "{'org': 'Amazon', 'address__street1': '123 aws avenue', 'address__city': 'Seattle', 'address__zip': '12345', 'address__country': 'United States', 'address__countryCode': 'US'}\n",
            "+-----------+------------------+---------+\n",
            "| Name      | Street           | City    |\n",
            "+-----------+------------------+---------+\n",
            "| Amazon    | 123 aws avenue   | Seattle |\n",
            "| Microsoft | 456 azure street | Redmond |\n",
            "+-----------+------------------+---------+\n"
          ],
          "name": "stdout"
        }
      ]
    }
  ]
}